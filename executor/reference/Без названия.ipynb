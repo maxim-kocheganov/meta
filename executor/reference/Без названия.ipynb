{
 "cells": [
  {
   "cell_type": "code",
   "execution_count": 7,
   "id": "02e84029-ab73-4681-b08e-fc14381405ce",
   "metadata": {},
   "outputs": [],
   "source": [
    "inp = \"\"\"\n",
    "use console;\n",
    "main()\n",
    "{\n",
    "    print(\"hello world!\");\n",
    "}\n",
    "\"\"\"\n",
    "\n"
   ]
  },
  {
   "cell_type": "code",
   "execution_count": null,
   "id": "313b161e-4a56-453a-afd8-c6b6692fdfa6",
   "metadata": {},
   "outputs": [],
   "source": [
    "class Code:\n",
    "    def __init__(self,code):\n",
    "class Parser:\n",
    "    def parse(self,code):\n",
    "        "
   ]
  }
 ],
 "metadata": {
  "kernelspec": {
   "display_name": "Python 3 (ipykernel)",
   "language": "python",
   "name": "python3"
  },
  "language_info": {
   "codemirror_mode": {
    "name": "ipython",
    "version": 3
   },
   "file_extension": ".py",
   "mimetype": "text/x-python",
   "name": "python",
   "nbconvert_exporter": "python",
   "pygments_lexer": "ipython3",
   "version": "3.10.0"
  }
 },
 "nbformat": 4,
 "nbformat_minor": 5
}
